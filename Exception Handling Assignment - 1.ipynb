{
 "cells": [
  {
   "cell_type": "markdown",
   "id": "383c56f0-46de-4044-bbd3-3c1b6aca7313",
   "metadata": {},
   "source": [
    "Q1. What is Exception in python? Write the differen,e etween Exceptions and syntax errors\n"
   ]
  },
  {
   "cell_type": "markdown",
   "id": "e34872d8-d647-4d36-8f60-6b24862925ab",
   "metadata": {},
   "source": [
    "#Answer\n",
    "\n",
    "\n",
    "An exception is an event that occurs during the execution of a program that disrupts the normal flow of instructions. When a Python script encounters a situation that it cannot cope with, it raises an exception. Exceptions can occur for various reasons, such as trying to access an undefined variable, dividing by zero, or attempting to open a file that doesn't exist.\n",
    "\n",
    "Exceptions are managed using try, except, and finally blocks. The basic syntax for handling exceptions in Python is as follows:"
   ]
  },
  {
   "cell_type": "code",
   "execution_count": 2,
   "id": "5542334c-db70-438e-bfb5-5d1fe6fe9c74",
   "metadata": {},
   "outputs": [
    {
     "name": "stdout",
     "output_type": "stream",
     "text": [
      "Error: division by zero\n",
      "Finally block\n"
     ]
    }
   ],
   "source": [
    "try:\n",
    "\n",
    "    result = 10 / 0\n",
    "except ZeroDivisionError as e:\n",
    "    # Code to handle the exception\n",
    "    print(f\"Error: {e}\")\n",
    "finally:\n",
    "    # Code that will be executed regardless of whether an exception occurred or not\n",
    "    print(\"Finally block\")\n"
   ]
  },
  {
   "cell_type": "markdown",
   "id": "847c5ebe-ed9e-4372-af49-c253175b9e79",
   "metadata": {},
   "source": [
    "\n",
    "In the example above, if a ZeroDivisionError occurs (dividing by zero), the code inside the except block will be executed.\n",
    "\n",
    " differentiate between exceptions and syntax errors:\n",
    "\n",
    "Exceptions:\n",
    "\n",
    "* Exceptions occur during the runtime of a program.\n",
    "* They are typically caused by logical errors in the code or unexpected conditions.\n",
    "* Examples include ZeroDivisionError, FileNotFoundError, and TypeError.\n",
    "* Exceptions can be caught and handled using try-except blocks.\n",
    "\n",
    "\n",
    "Syntax Errors:\n",
    "\n",
    "* Syntax errors occur during the parsing of the code, i.e., before the program runs.\n",
    "* They are caused by violations of the Python language syntax rules.\n",
    "* Examples include missing colons, mismatched parentheses, and misspelled keywords.\n",
    "* The program will not run if there are syntax errors; you need to fix them before execution.\n",
    "\n",
    "\n",
    "In summary, exceptions are runtime errors that occur during program execution, while syntax errors are related to the structure of the code and prevent the program from running in the first place. Handling exceptions allows you to gracefully deal with unexpected situations and continue the program's execution.\n",
    "\n",
    "\n"
   ]
  },
  {
   "cell_type": "markdown",
   "id": "d768ab2e-88b4-43b3-a1dd-6c72edbb4923",
   "metadata": {},
   "source": [
    "                      -------------------------------------------------------------------"
   ]
  },
  {
   "cell_type": "markdown",
   "id": "491180f2-5135-481c-9aa5-c7f7f6e92a5f",
   "metadata": {},
   "source": [
    "Q2. What happens when  an exception is not handled? Explain with an example"
   ]
  },
  {
   "cell_type": "markdown",
   "id": "856d4cc1-990a-45de-99ee-ff29da553be5",
   "metadata": {},
   "source": [
    "#Answer\n",
    "\n",
    "\n",
    "When an exception is not handled in Python, it propagates up the call stack until it encounters an appropriate exception handler (an enclosing try-except block) or until it reaches the top-level of the program. If the exception is not handled at all, the program will terminate, and an error message will be displayed, indicating the type of exception and a traceback of the call stack.\n",
    "\n",
    "Here's an example to illustrate what happens when an exception is not handled:"
   ]
  },
  {
   "cell_type": "code",
   "execution_count": 4,
   "id": "d7fe11a4-d78a-4d17-9128-344fbe4c4149",
   "metadata": {},
   "outputs": [
    {
     "ename": "ZeroDivisionError",
     "evalue": "division by zero",
     "output_type": "error",
     "traceback": [
      "\u001b[0;31m---------------------------------------------------------------------------\u001b[0m",
      "\u001b[0;31mZeroDivisionError\u001b[0m                         Traceback (most recent call last)",
      "Cell \u001b[0;32mIn[4], line 6\u001b[0m\n\u001b[1;32m      3\u001b[0m     \u001b[38;5;28;01mreturn\u001b[39;00m result\n\u001b[1;32m      5\u001b[0m \u001b[38;5;66;03m# Calling the function with a division by zero\u001b[39;00m\n\u001b[0;32m----> 6\u001b[0m result \u001b[38;5;241m=\u001b[39m \u001b[43mdivide_numbers\u001b[49m\u001b[43m(\u001b[49m\u001b[38;5;241;43m10\u001b[39;49m\u001b[43m,\u001b[49m\u001b[43m \u001b[49m\u001b[38;5;241;43m0\u001b[39;49m\u001b[43m)\u001b[49m\n\u001b[1;32m      8\u001b[0m \u001b[38;5;66;03m# This line will not be reached if an exception occurs in the function\u001b[39;00m\n\u001b[1;32m      9\u001b[0m \u001b[38;5;28mprint\u001b[39m(\u001b[38;5;124m\"\u001b[39m\u001b[38;5;124mResult:\u001b[39m\u001b[38;5;124m\"\u001b[39m, result)\n",
      "Cell \u001b[0;32mIn[4], line 2\u001b[0m, in \u001b[0;36mdivide_numbers\u001b[0;34m(a, b)\u001b[0m\n\u001b[1;32m      1\u001b[0m \u001b[38;5;28;01mdef\u001b[39;00m \u001b[38;5;21mdivide_numbers\u001b[39m(a, b):\n\u001b[0;32m----> 2\u001b[0m     result \u001b[38;5;241m=\u001b[39m \u001b[43ma\u001b[49m\u001b[43m \u001b[49m\u001b[38;5;241;43m/\u001b[39;49m\u001b[43m \u001b[49m\u001b[43mb\u001b[49m\n\u001b[1;32m      3\u001b[0m     \u001b[38;5;28;01mreturn\u001b[39;00m result\n",
      "\u001b[0;31mZeroDivisionError\u001b[0m: division by zero"
     ]
    }
   ],
   "source": [
    "def divide_numbers(a, b):\n",
    "    result = a / b\n",
    "    return result\n",
    "\n",
    "# Calling the function with a division by zero\n",
    "result = divide_numbers(10, 0)\n",
    "\n",
    "# This line will not be reached if an exception occurs in the function\n",
    "print(\"Result:\", result)\n"
   ]
  },
  {
   "cell_type": "markdown",
   "id": "4a272bbf-8ee3-4eb9-abb9-f38838ad3107",
   "metadata": {},
   "source": [
    "In this example, the divide_numbers function is called with arguments 10 and 0, which would result in a ZeroDivisionError since division by zero is not allowed. If the exception is not handled, the program will terminate, and you'll see an error "
   ]
  },
  {
   "cell_type": "markdown",
   "id": "61e7fe27-1fe2-442b-9990-ddf2b4958328",
   "metadata": {},
   "source": [
    "                      -------------------------------------------------------------------"
   ]
  },
  {
   "cell_type": "markdown",
   "id": "ee58e8fc-6392-4da0-a0c9-2443f93e661c",
   "metadata": {},
   "source": [
    "Q3. Which Python statements are used to catch and handle exceptions? Explain with an example"
   ]
  },
  {
   "cell_type": "markdown",
   "id": "c6211b4c-a622-4712-bc2a-11d95f2764de",
   "metadata": {},
   "source": [
    "#Answer\n",
    "\n",
    "\n",
    "In Python, the try, except, else, and finally statements are used to catch and handle exceptions. The basic structure is as follows:"
   ]
  },
  {
   "cell_type": "code",
   "execution_count": 8,
   "id": "dfadad37-1b01-49b8-af16-eb1e2763dd10",
   "metadata": {},
   "outputs": [
    {
     "name": "stdout",
     "output_type": "stream",
     "text": [
      "Error: division by zero\n",
      "Finally block\n"
     ]
    }
   ],
   "source": [
    "try:\n",
    "    # Code that may raise an exception\n",
    "    result = 10 / 0\n",
    "except ZeroDivisionError as e:\n",
    "    # Code to handle the specific exception\n",
    "    print(f\"Error: {e}\")\n",
    "else:\n",
    "    # Code to be executed if no exception occurs\n",
    "    print(\"No error occurred.\")\n",
    "finally:\n",
    "    # Code that will be executed regardless of whether an exception occurred or not\n",
    "    print(\"Finally block\")\n"
   ]
  },
  {
   "cell_type": "markdown",
   "id": "e9cb4561-4e23-497f-97c5-84be90016527",
   "metadata": {},
   "source": [
    "Let's break down the components:\n",
    "\n",
    "The try block contains the code that may raise an exception.\n",
    "\n",
    "The except block specifies the type of exception to catch and provides the code to handle that specific exception.\n",
    "\n",
    "The else block contains code that will be executed if no exception occurs in the try block.\n",
    "\n",
    "The finally block contains code that will be executed regardless of whether an exception occurred or not. This block is optional\n",
    "\n",
    "\n",
    "Example______"
   ]
  },
  {
   "cell_type": "code",
   "execution_count": 21,
   "id": "a2ad6150-5cae-4c25-bcfc-1304c413cfdd",
   "metadata": {},
   "outputs": [
    {
     "name": "stdout",
     "output_type": "stream",
     "text": [
      "Division operation complete.\n",
      "Result 1: 5.0\n",
      "Error: division by zero\n",
      "Division operation complete.\n",
      "Result 2: None\n"
     ]
    }
   ],
   "source": [
    "def divide_numbers(a, b):\n",
    "    try:\n",
    "        result = a / b\n",
    "        return result\n",
    "    except ZeroDivisionError as e:\n",
    "        print(f\"Error: {e}\")\n",
    "        return None\n",
    "    else:\n",
    "        print(\"Division successful.\")\n",
    "    finally:\n",
    "        print(\"Division operation complete.\")\n",
    "\n",
    "# Example 1: Division by a non-zero number\n",
    "result1 = divide_numbers(10, 2)\n",
    "print(\"Result 1:\", result1)\n",
    "\n",
    "# Example 2: Division by zero\n",
    "result2 = divide_numbers(10, 0)\n",
    "print(\"Result 2:\", result2)\n"
   ]
  },
  {
   "cell_type": "markdown",
   "id": "ab68aa9b-06e7-48ba-9454-ab662e3c7fc2",
   "metadata": {},
   "source": [
    "                      -------------------------------------------------------------------"
   ]
  },
  {
   "cell_type": "markdown",
   "id": "603d8454-0f91-4c58-9047-9330eaa2c9b0",
   "metadata": {},
   "source": [
    "Q4. Explain with an example:\n",
    "\n",
    "a. try  and else\n",
    " \n",
    "b. finally\n",
    "\n",
    "c. raise"
   ]
  },
  {
   "cell_type": "code",
   "execution_count": 20,
   "id": "d01c6029-65e5-4fe4-aa1a-cd5c9feb57f6",
   "metadata": {},
   "outputs": [
    {
     "name": "stdout",
     "output_type": "stream",
     "text": [
      "Congratulations Your Division successful.\n",
      "Result 1: 5.0\n",
      "Sorry you are dividing the number by zero: division by zero\n",
      "Result 2: None\n"
     ]
    }
   ],
   "source": [
    "#Answer\n",
    "\n",
    "# a. try and else\n",
    "\n",
    "def divide_numbers(a, b):\n",
    "    try:\n",
    "        result = a / b\n",
    "    except ZeroDivisionError as e:\n",
    "        print(f\"Sorry you are dividing the number by zero: {e}\")\n",
    "    else:\n",
    "        print(\"Congratulations Your Division successful.\")\n",
    "        return result\n",
    "\n",
    "# Example 1: Division by a non-zero number\n",
    "result1 = divide_numbers(10, 2)\n",
    "print(\"Result 1:\", result1)\n",
    "\n",
    "# Example 2: Division by zero\n",
    "result2 = divide_numbers(10, 0)\n",
    "# Since a ZeroDivisionError occurs, the 'else' block is not executed in this case\n",
    "print(\"Result 2:\", result2)\n"
   ]
  },
  {
   "cell_type": "markdown",
   "id": "0d6bc685-b354-4b88-b660-ccdaa5531b52",
   "metadata": {},
   "source": [
    "In this example, the 'try' block attempts to perform division, and if it succeeds, the code inside the 'else' block is executed. If an exception occurs, the 'except' block is executed, and the 'else' block is skipped."
   ]
  },
  {
   "cell_type": "code",
   "execution_count": 19,
   "id": "31333345-82b3-45d7-8c82-798a5951692a",
   "metadata": {},
   "outputs": [
    {
     "name": "stdout",
     "output_type": "stream",
     "text": [
      "Division operation complete.\n",
      "Result 1: 5.0\n",
      "Error: division by zero\n",
      "Division operation complete.\n",
      "Result 2: None\n"
     ]
    }
   ],
   "source": [
    "#. b. Finally\n",
    "\n",
    "def divide_numbers(a, b):\n",
    "    try:\n",
    "        result = a / b\n",
    "        return result\n",
    "    except ZeroDivisionError as e:\n",
    "        print(f\"Error: {e}\")\n",
    "        return None\n",
    "    finally:\n",
    "        print(\"Division operation complete.\")\n",
    "\n",
    "# Example 1: Division by a non-zero number\n",
    "result1 = divide_numbers(10, 2)\n",
    "print(\"Result 1:\", result1)\n",
    "\n",
    "# Example 2: Division by zero\n",
    "result2 = divide_numbers(10, 0)\n",
    "# Even though an exception occurs, the 'finally' block is still executed\n",
    "print(\"Result 2:\", result2)\n",
    "\n"
   ]
  },
  {
   "cell_type": "markdown",
   "id": "ad3512bc-083b-43fd-8175-1f30cc5ca1a7",
   "metadata": {},
   "source": [
    "In this example, the finally block is always executed, regardless of whether an exception occurred or not. It's typically used for cleanup operations."
   ]
  },
  {
   "cell_type": "code",
   "execution_count": 18,
   "id": "aae9a595-f455-4956-bfec-5dae33643ab6",
   "metadata": {},
   "outputs": [
    {
     "name": "stdout",
     "output_type": "stream",
     "text": [
      "Input is a positive number.\n",
      "Error: Input must be a positive number.\n"
     ]
    }
   ],
   "source": [
    "## c. Raise\n",
    "\n",
    "def check_positive_number(value):\n",
    "    try:\n",
    "        if value < 0:\n",
    "            raise ValueError(\"Input must be a positive number.\")\n",
    "        else:\n",
    "            print(\"Input is a positive number.\")\n",
    "    except ValueError as e:\n",
    "        print(f\"Error: {e}\")\n",
    "\n",
    "# Example 1: Positive number\n",
    "check_positive_number(42)\n",
    "\n",
    "# Example 2: Negative number\n",
    "check_positive_number(-5)\n"
   ]
  },
  {
   "cell_type": "markdown",
   "id": "1ba5eb05-810a-4afa-892c-8adf9a2e5b2f",
   "metadata": {},
   "source": [
    "In this example, the raise statement is used to raise a ValueError if the input is not a positive number. The except block then handles this raised exception, printing an error message."
   ]
  },
  {
   "cell_type": "markdown",
   "id": "cefbaf43-6ff9-49ad-b189-2a56c6f188e8",
   "metadata": {},
   "source": [
    "                      -------------------------------------------------------------------"
   ]
  },
  {
   "cell_type": "markdown",
   "id": "d83dbde1-120b-428e-9820-73b17987c381",
   "metadata": {},
   "source": [
    "Q5. What are Custom Exceptions in python? Why do we need Custom Exceptions? Explain with an example"
   ]
  },
  {
   "cell_type": "markdown",
   "id": "ccfa2a85-cc34-410e-a763-42570b967db9",
   "metadata": {},
   "source": [
    "#Answer\n",
    "\n",
    "In Python, custom exceptions are user-defined exceptions that allow us to create their own exception classes to handle specific error conditions in our code. Custom exceptions help make your code more modular, maintainable, and expressive by allowing you to define and handle errors specific to your application or module.\n",
    "\n",
    "Here's an example to illustrate the concept of custom exceptions:"
   ]
  },
  {
   "cell_type": "code",
   "execution_count": 17,
   "id": "0dc0d6b0-5b94-41fb-b4ff-740d44cff2b0",
   "metadata": {},
   "outputs": [
    {
     "name": "stdout",
     "output_type": "stream",
     "text": [
      "Processing positive number: 42\n",
      "NegativeNumberError: -5 is a negative number.\n"
     ]
    }
   ],
   "source": [
    "class NegativeNumberError(Exception):\n",
    "    \n",
    "    \"\"\"Custom exception for handling negative numbers.\"\"\"\n",
    "\n",
    "    def __init__(self, value):\n",
    "        self.value = value\n",
    "        super().__init__(f\"NegativeNumberError: {value} is a negative number.\")\n",
    "\n",
    "\n",
    "def process_positive_number(number):\n",
    "    try:\n",
    "        if number < 0:\n",
    "            raise NegativeNumberError(number)\n",
    "        else:\n",
    "            print(\"Processing positive number:\", number)\n",
    "            # Additional processing code can go here\n",
    "    except NegativeNumberError as e:\n",
    "        print(e)\n",
    "\n",
    "\n",
    "# Example 1: Process a positive number\n",
    "process_positive_number(42)\n",
    "\n",
    "# Example 2: Process a negative number (raises NegativeNumberError)\n",
    "process_positive_number(-5)\n"
   ]
  },
  {
   "cell_type": "markdown",
   "id": "a6ee7bda-0a61-4ff5-a3f9-f38910a31b4b",
   "metadata": {},
   "source": [
    "In this example:\n",
    "\n",
    "* We define a custom exception class NegativeNumberError that inherits from the built-in Exception class. This class includes an __init__ method to initialize the exception with a specific error message and the value that caused the error.\n",
    "\n",
    "* The 'process_positive_number' function takes a number as an argument and raises a 'NegativeNumberError' if the number is negative. It also includes an 'except' block to catch and handle the custom exception.\n",
    "\n",
    "* Example 1 demonstrates the function being called with a positive number, and Example 2 demonstrates the function being called with a negative number, which raises the NegativeNumberError.\n",
    "\n",
    "Why do we need Custom Exceptions?\n",
    "\n",
    "* Expressiveness: Custom exceptions allow you to provide more meaningful and expressive error messages, making it easier to understand the nature of the error and how to handle it.\n",
    "\n",
    "* Modularity: By creating custom exceptions, you can encapsulate error-handling logic specific to your application or module, promoting modularity and maintainability.\n",
    "\n",
    "* Clarity: Custom exceptions make the code more readable by clearly defining and documenting the types of errors that can occur.\n",
    "\n",
    "* Granular Control: Custom exceptions allow you to have granular control over how different types of errors are handled. This can be particularly useful when different error conditions require different recovery or reporting mechanisms.\n",
    "\n",
    "In summary, custom exceptions in Python provide a way to handle specific error conditions in a more organized and expressive manner, leading to cleaner and more maintainable code."
   ]
  },
  {
   "cell_type": "markdown",
   "id": "4bd56842-96dd-463e-9a53-abe5f7acc2c6",
   "metadata": {},
   "source": [
    "                       -------------------------------------------------------------------"
   ]
  },
  {
   "cell_type": "markdown",
   "id": "e5cfcd8a-e250-42a7-8424-c3a5f8fe7a69",
   "metadata": {},
   "source": [
    "Q6. Create a custom exception class. Use this class to handle an exception."
   ]
  },
  {
   "cell_type": "code",
   "execution_count": 16,
   "id": "e56c2925-c023-4f09-be5d-2b3737280d6d",
   "metadata": {},
   "outputs": [
    {
     "name": "stdout",
     "output_type": "stream",
     "text": [
      "Result: 2.0\n",
      "Caught an exception: Cannot process zero.\n"
     ]
    }
   ],
   "source": [
    "#Answer\n",
    "\n",
    "class MyCustomError(Exception):\n",
    "    \"\"\"Custom exception class.\"\"\"\n",
    "    \n",
    "    def __init__(self, message=\"A custom error occurred.\"):\n",
    "        self.message = message\n",
    "        super().__init__(self.message)\n",
    "\n",
    "\n",
    "def example_function(value):\n",
    "    try:\n",
    "        if value == 0:\n",
    "            raise MyCustomError(\"Cannot process zero.\")\n",
    "        else:\n",
    "            result = 10 / value\n",
    "            print(\"Result:\", result)\n",
    "    except MyCustomError as e:\n",
    "        print(f\"Caught an exception: {e}\")\n",
    "\n",
    "\n",
    "# Example 1: Using the function with a non-zero value\n",
    "example_function(5)\n",
    "\n",
    "# Example 2: Using the function with a zero value (raises MyCustomError)\n",
    "example_function(0)\n"
   ]
  },
  {
   "cell_type": "markdown",
   "id": "e903c79a-f634-4ee3-9ed3-6abdaae74b63",
   "metadata": {},
   "source": [
    "In this example:\n",
    "\n",
    "* We define a custom exception class named 'MyCustomError', which inherits from the built-in Exception class. The __init__ method allows us to initialize the exception with a custom error message.\n",
    "\n",
    "* The 'example_function' function takes a value as an argument and raises a 'MyCustomError' if the value is zero. Otherwise, it performs a division operation and prints the result.\n",
    "\n",
    "* Example 1 demonstrates the function being called with a non-zero value, and Example 2 demonstrates the function being called with a zero value, which raises the 'MyCustomError'.\n",
    "\n",
    "When the custom exception is raised, the except 'MyCustomError' as e block is executed, and it prints a message indicating that the custom exception has been caught along with the specific error message provided during the exception instantiation. This showcases how you can use a custom exception class to handle specific error conditions in your code.\n",
    "\n"
   ]
  },
  {
   "cell_type": "markdown",
   "id": "c195c9bd-aba6-49ad-a195-6b541eb54fb2",
   "metadata": {},
   "source": [
    "                        -------------------------------------------------------------------"
   ]
  }
 ],
 "metadata": {
  "kernelspec": {
   "display_name": "Python 3 (ipykernel)",
   "language": "python",
   "name": "python3"
  },
  "language_info": {
   "codemirror_mode": {
    "name": "ipython",
    "version": 3
   },
   "file_extension": ".py",
   "mimetype": "text/x-python",
   "name": "python",
   "nbconvert_exporter": "python",
   "pygments_lexer": "ipython3",
   "version": "3.10.8"
  }
 },
 "nbformat": 4,
 "nbformat_minor": 5
}
